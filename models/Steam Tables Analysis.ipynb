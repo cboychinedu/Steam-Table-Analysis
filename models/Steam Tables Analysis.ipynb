{
 "cells": [
  {
   "cell_type": "code",
   "execution_count": 3,
   "id": "850a5539",
   "metadata": {},
   "outputs": [],
   "source": [
    "#!/usr/bin/env python3 "
   ]
  },
  {
   "cell_type": "code",
   "execution_count": 1,
   "id": "abd96dfa",
   "metadata": {},
   "outputs": [],
   "source": [
    "# Steam Tables Analysis "
   ]
  },
  {
   "cell_type": "code",
   "execution_count": 1,
   "id": "75472995",
   "metadata": {},
   "outputs": [],
   "source": [
    "# Importing the necessary modules \n",
    "import joblib, pickle, sklearn\n",
    "import pandas as pd \n",
    "import numpy as np \n",
    "import matplotlib.pyplot as plt\n",
    "import seaborn as sns \n",
    "import plotly.express as px \n",
    "from sklearn import preprocessing, svm \n",
    "from sklearn.model_selection import train_test_split \n",
    "from sklearn.linear_model import LinearRegression \n",
    "from sklearn.linear_model import ARDRegression\n",
    "\n",
    "\n",
    "# Setting some basic config for plotting \n",
    "sns.set_color_codes(\"dark\") \n",
    "sns.set(style=\"whitegrid\")\n",
    "# ax = plt.axes() \n",
    "# plt.axes().set_facecolor('orange') "
   ]
  },
  {
   "cell_type": "code",
   "execution_count": 2,
   "id": "f7ac4edb",
   "metadata": {},
   "outputs": [
    {
     "name": "stdout",
     "output_type": "stream",
     "text": [
      "Sklearn Version: 1.0\n"
     ]
    }
   ],
   "source": [
    "# Displaying the version used for sklearn \n",
    "print(f\"Sklearn Version: {sklearn.__version__}\")"
   ]
  },
  {
   "cell_type": "code",
   "execution_count": 3,
   "id": "58cc517d",
   "metadata": {},
   "outputs": [
    {
     "data": {
      "text/html": [
       "<div>\n",
       "<style scoped>\n",
       "    .dataframe tbody tr th:only-of-type {\n",
       "        vertical-align: middle;\n",
       "    }\n",
       "\n",
       "    .dataframe tbody tr th {\n",
       "        vertical-align: top;\n",
       "    }\n",
       "\n",
       "    .dataframe thead th {\n",
       "        text-align: right;\n",
       "    }\n",
       "</style>\n",
       "<table border=\"1\" class=\"dataframe\">\n",
       "  <thead>\n",
       "    <tr style=\"text-align: right;\">\n",
       "      <th></th>\n",
       "      <th>P (kPa)</th>\n",
       "      <th>T (°C )</th>\n",
       "      <th>vf (m3/kg)</th>\n",
       "      <th>vg (m3/kg )</th>\n",
       "      <th>vfg (m3/kg )</th>\n",
       "      <th>hf (kJ/kg )</th>\n",
       "      <th>hg (kJ/kg )</th>\n",
       "      <th>hfg (kJ/kg )</th>\n",
       "      <th>uf (kJ/kg)</th>\n",
       "      <th>ug (kJ/kg)</th>\n",
       "      <th>ufg (kJ/kg )</th>\n",
       "      <th>sf (kJ/(kg K)</th>\n",
       "      <th>sg (kJ/(kg K)</th>\n",
       "      <th>sfg kJ/(kg K)</th>\n",
       "    </tr>\n",
       "  </thead>\n",
       "  <tbody>\n",
       "    <tr>\n",
       "      <th>0</th>\n",
       "      <td>1</td>\n",
       "      <td>6.99</td>\n",
       "      <td>0.000997</td>\n",
       "      <td>128.97</td>\n",
       "      <td>128.97</td>\n",
       "      <td>29.40</td>\n",
       "      <td>2514.61</td>\n",
       "      <td>2485.21</td>\n",
       "      <td>29.40</td>\n",
       "      <td>2385.64</td>\n",
       "      <td>2356.24</td>\n",
       "      <td>0.1058</td>\n",
       "      <td>8.9770</td>\n",
       "      <td>8.8713</td>\n",
       "    </tr>\n",
       "    <tr>\n",
       "      <th>1</th>\n",
       "      <td>2</td>\n",
       "      <td>17.50</td>\n",
       "      <td>0.001000</td>\n",
       "      <td>67.00</td>\n",
       "      <td>67.00</td>\n",
       "      <td>73.42</td>\n",
       "      <td>2534.32</td>\n",
       "      <td>2460.90</td>\n",
       "      <td>73.42</td>\n",
       "      <td>2400.31</td>\n",
       "      <td>2326.89</td>\n",
       "      <td>0.2606</td>\n",
       "      <td>8.7254</td>\n",
       "      <td>8.4648</td>\n",
       "    </tr>\n",
       "    <tr>\n",
       "      <th>2</th>\n",
       "      <td>3</td>\n",
       "      <td>24.09</td>\n",
       "      <td>0.001002</td>\n",
       "      <td>45.66</td>\n",
       "      <td>45.66</td>\n",
       "      <td>100.97</td>\n",
       "      <td>2546.23</td>\n",
       "      <td>2445.26</td>\n",
       "      <td>100.97</td>\n",
       "      <td>2409.25</td>\n",
       "      <td>2308.28</td>\n",
       "      <td>0.3544</td>\n",
       "      <td>8.5791</td>\n",
       "      <td>8.2247</td>\n",
       "    </tr>\n",
       "    <tr>\n",
       "      <th>3</th>\n",
       "      <td>4</td>\n",
       "      <td>28.98</td>\n",
       "      <td>0.001003</td>\n",
       "      <td>34.79</td>\n",
       "      <td>34.79</td>\n",
       "      <td>121.38</td>\n",
       "      <td>2554.99</td>\n",
       "      <td>2433.61</td>\n",
       "      <td>121.38</td>\n",
       "      <td>2415.82</td>\n",
       "      <td>2294.44</td>\n",
       "      <td>0.4225</td>\n",
       "      <td>8.4759</td>\n",
       "      <td>8.0534</td>\n",
       "    </tr>\n",
       "    <tr>\n",
       "      <th>4</th>\n",
       "      <td>5</td>\n",
       "      <td>32.90</td>\n",
       "      <td>0.001005</td>\n",
       "      <td>28.19</td>\n",
       "      <td>28.18</td>\n",
       "      <td>137.74</td>\n",
       "      <td>2561.99</td>\n",
       "      <td>2424.25</td>\n",
       "      <td>137.73</td>\n",
       "      <td>2421.06</td>\n",
       "      <td>2283.33</td>\n",
       "      <td>0.4763</td>\n",
       "      <td>8.3963</td>\n",
       "      <td>7.9200</td>\n",
       "    </tr>\n",
       "  </tbody>\n",
       "</table>\n",
       "</div>"
      ],
      "text/plain": [
       "   P (kPa)  T (°C )  vf (m3/kg)  vg (m3/kg )  vfg (m3/kg )  hf (kJ/kg )  \\\n",
       "0        1     6.99    0.000997       128.97        128.97        29.40   \n",
       "1        2    17.50    0.001000        67.00         67.00        73.42   \n",
       "2        3    24.09    0.001002        45.66         45.66       100.97   \n",
       "3        4    28.98    0.001003        34.79         34.79       121.38   \n",
       "4        5    32.90    0.001005        28.19         28.18       137.74   \n",
       "\n",
       "   hg (kJ/kg )  hfg (kJ/kg )  uf (kJ/kg)  ug (kJ/kg)  ufg (kJ/kg )  \\\n",
       "0      2514.61       2485.21       29.40     2385.64       2356.24   \n",
       "1      2534.32       2460.90       73.42     2400.31       2326.89   \n",
       "2      2546.23       2445.26      100.97     2409.25       2308.28   \n",
       "3      2554.99       2433.61      121.38     2415.82       2294.44   \n",
       "4      2561.99       2424.25      137.73     2421.06       2283.33   \n",
       "\n",
       "   sf (kJ/(kg K)   sg (kJ/(kg K)  sfg kJ/(kg K)   \n",
       "0          0.1058         8.9770          8.8713  \n",
       "1          0.2606         8.7254          8.4648  \n",
       "2          0.3544         8.5791          8.2247  \n",
       "3          0.4225         8.4759          8.0534  \n",
       "4          0.4763         8.3963          7.9200  "
      ]
     },
     "execution_count": 3,
     "metadata": {},
     "output_type": "execute_result"
    }
   ],
   "source": [
    "# Setting the path to the steam tables dataset \n",
    "dataset = \"steam_tables.xlsx\" \n",
    "\n",
    "# Loading the steam tables into memory \n",
    "df = pd.read_excel(dataset) \n",
    "\n",
    "# Viewing the head of the loaded dataframe \n",
    "df.head() "
   ]
  },
  {
   "cell_type": "code",
   "execution_count": 4,
   "id": "3e51f8d5",
   "metadata": {},
   "outputs": [
    {
     "data": {
      "text/html": [
       "<div>\n",
       "<style scoped>\n",
       "    .dataframe tbody tr th:only-of-type {\n",
       "        vertical-align: middle;\n",
       "    }\n",
       "\n",
       "    .dataframe tbody tr th {\n",
       "        vertical-align: top;\n",
       "    }\n",
       "\n",
       "    .dataframe thead th {\n",
       "        text-align: right;\n",
       "    }\n",
       "</style>\n",
       "<table border=\"1\" class=\"dataframe\">\n",
       "  <thead>\n",
       "    <tr style=\"text-align: right;\">\n",
       "      <th></th>\n",
       "      <th>P (kPa)</th>\n",
       "      <th>T (°C )</th>\n",
       "      <th>vf (m3/kg)</th>\n",
       "      <th>vg (m3/kg )</th>\n",
       "      <th>vfg (m3/kg )</th>\n",
       "      <th>hf (kJ/kg )</th>\n",
       "      <th>hg (kJ/kg )</th>\n",
       "      <th>hfg (kJ/kg )</th>\n",
       "      <th>uf (kJ/kg)</th>\n",
       "      <th>ug (kJ/kg)</th>\n",
       "      <th>ufg (kJ/kg )</th>\n",
       "      <th>sf (kJ/(kg K)</th>\n",
       "      <th>sg (kJ/(kg K)</th>\n",
       "      <th>sfg kJ/(kg K)</th>\n",
       "    </tr>\n",
       "  </thead>\n",
       "  <tbody>\n",
       "    <tr>\n",
       "      <th>count</th>\n",
       "      <td>124.000000</td>\n",
       "      <td>124.000000</td>\n",
       "      <td>124.000000</td>\n",
       "      <td>124.000000</td>\n",
       "      <td>124.000000</td>\n",
       "      <td>124.000000</td>\n",
       "      <td>124.000000</td>\n",
       "      <td>124.000000</td>\n",
       "      <td>124.000000</td>\n",
       "      <td>124.000000</td>\n",
       "      <td>124.000000</td>\n",
       "      <td>124.000000</td>\n",
       "      <td>124.000000</td>\n",
       "      <td>124.000000</td>\n",
       "    </tr>\n",
       "    <tr>\n",
       "      <th>mean</th>\n",
       "      <td>4950.322581</td>\n",
       "      <td>202.883226</td>\n",
       "      <td>0.001251</td>\n",
       "      <td>3.891066</td>\n",
       "      <td>3.889911</td>\n",
       "      <td>906.587661</td>\n",
       "      <td>2718.134677</td>\n",
       "      <td>1811.546774</td>\n",
       "      <td>898.846613</td>\n",
       "      <td>2542.931935</td>\n",
       "      <td>1644.084839</td>\n",
       "      <td>2.314902</td>\n",
       "      <td>6.521671</td>\n",
       "      <td>4.206765</td>\n",
       "    </tr>\n",
       "    <tr>\n",
       "      <th>std</th>\n",
       "      <td>6364.318564</td>\n",
       "      <td>105.045000</td>\n",
       "      <td>0.000247</td>\n",
       "      <td>14.389949</td>\n",
       "      <td>14.390070</td>\n",
       "      <td>510.154747</td>\n",
       "      <td>71.377426</td>\n",
       "      <td>485.912267</td>\n",
       "      <td>500.417412</td>\n",
       "      <td>53.039034</td>\n",
       "      <td>473.861716</td>\n",
       "      <td>1.065345</td>\n",
       "      <td>0.955574</td>\n",
       "      <td>2.017759</td>\n",
       "    </tr>\n",
       "    <tr>\n",
       "      <th>min</th>\n",
       "      <td>1.000000</td>\n",
       "      <td>6.990000</td>\n",
       "      <td>0.000997</td>\n",
       "      <td>0.005867</td>\n",
       "      <td>0.003975</td>\n",
       "      <td>29.400000</td>\n",
       "      <td>2514.610000</td>\n",
       "      <td>752.210000</td>\n",
       "      <td>29.400000</td>\n",
       "      <td>2385.640000</td>\n",
       "      <td>664.760000</td>\n",
       "      <td>0.105800</td>\n",
       "      <td>5.052500</td>\n",
       "      <td>0.926100</td>\n",
       "    </tr>\n",
       "    <tr>\n",
       "      <th>25%</th>\n",
       "      <td>193.750000</td>\n",
       "      <td>119.187500</td>\n",
       "      <td>0.001060</td>\n",
       "      <td>0.022516</td>\n",
       "      <td>0.021120</td>\n",
       "      <td>500.047500</td>\n",
       "      <td>2667.580000</td>\n",
       "      <td>1440.145000</td>\n",
       "      <td>499.842500</td>\n",
       "      <td>2512.620000</td>\n",
       "      <td>1264.625000</td>\n",
       "      <td>1.518200</td>\n",
       "      <td>5.725525</td>\n",
       "      <td>2.495325</td>\n",
       "    </tr>\n",
       "    <tr>\n",
       "      <th>50%</th>\n",
       "      <td>962.500000</td>\n",
       "      <td>178.220000</td>\n",
       "      <td>0.001125</td>\n",
       "      <td>0.201700</td>\n",
       "      <td>0.200600</td>\n",
       "      <td>754.920000</td>\n",
       "      <td>2741.035000</td>\n",
       "      <td>2019.925000</td>\n",
       "      <td>753.835000</td>\n",
       "      <td>2559.375000</td>\n",
       "      <td>1826.900000</td>\n",
       "      <td>2.120650</td>\n",
       "      <td>6.596050</td>\n",
       "      <td>4.475400</td>\n",
       "    </tr>\n",
       "    <tr>\n",
       "      <th>75%</th>\n",
       "      <td>8312.500000</td>\n",
       "      <td>297.677500</td>\n",
       "      <td>0.001396</td>\n",
       "      <td>0.914125</td>\n",
       "      <td>0.913300</td>\n",
       "      <td>1331.657500</td>\n",
       "      <td>2773.585000</td>\n",
       "      <td>2204.612500</td>\n",
       "      <td>1320.055000</td>\n",
       "      <td>2581.955000</td>\n",
       "      <td>2028.102500</td>\n",
       "      <td>3.230275</td>\n",
       "      <td>7.137200</td>\n",
       "      <td>5.619075</td>\n",
       "    </tr>\n",
       "    <tr>\n",
       "      <th>max</th>\n",
       "      <td>22000.000000</td>\n",
       "      <td>375.090000</td>\n",
       "      <td>0.001892</td>\n",
       "      <td>128.970000</td>\n",
       "      <td>128.970000</td>\n",
       "      <td>1881.570000</td>\n",
       "      <td>2802.330000</td>\n",
       "      <td>2485.210000</td>\n",
       "      <td>1839.960000</td>\n",
       "      <td>2602.310000</td>\n",
       "      <td>2356.240000</td>\n",
       "      <td>4.126400</td>\n",
       "      <td>8.977000</td>\n",
       "      <td>8.871300</td>\n",
       "    </tr>\n",
       "  </tbody>\n",
       "</table>\n",
       "</div>"
      ],
      "text/plain": [
       "            P (kPa)     T (°C )  vf (m3/kg)  vg (m3/kg )  vfg (m3/kg )  \\\n",
       "count    124.000000  124.000000  124.000000   124.000000    124.000000   \n",
       "mean    4950.322581  202.883226    0.001251     3.891066      3.889911   \n",
       "std     6364.318564  105.045000    0.000247    14.389949     14.390070   \n",
       "min        1.000000    6.990000    0.000997     0.005867      0.003975   \n",
       "25%      193.750000  119.187500    0.001060     0.022516      0.021120   \n",
       "50%      962.500000  178.220000    0.001125     0.201700      0.200600   \n",
       "75%     8312.500000  297.677500    0.001396     0.914125      0.913300   \n",
       "max    22000.000000  375.090000    0.001892   128.970000    128.970000   \n",
       "\n",
       "       hf (kJ/kg )  hg (kJ/kg )  hfg (kJ/kg )   uf (kJ/kg)   ug (kJ/kg)  \\\n",
       "count   124.000000   124.000000    124.000000   124.000000   124.000000   \n",
       "mean    906.587661  2718.134677   1811.546774   898.846613  2542.931935   \n",
       "std     510.154747    71.377426    485.912267   500.417412    53.039034   \n",
       "min      29.400000  2514.610000    752.210000    29.400000  2385.640000   \n",
       "25%     500.047500  2667.580000   1440.145000   499.842500  2512.620000   \n",
       "50%     754.920000  2741.035000   2019.925000   753.835000  2559.375000   \n",
       "75%    1331.657500  2773.585000   2204.612500  1320.055000  2581.955000   \n",
       "max    1881.570000  2802.330000   2485.210000  1839.960000  2602.310000   \n",
       "\n",
       "       ufg (kJ/kg )  sf (kJ/(kg K)   sg (kJ/(kg K)  sfg kJ/(kg K)   \n",
       "count    124.000000      124.000000     124.000000      124.000000  \n",
       "mean    1644.084839        2.314902       6.521671        4.206765  \n",
       "std      473.861716        1.065345       0.955574        2.017759  \n",
       "min      664.760000        0.105800       5.052500        0.926100  \n",
       "25%     1264.625000        1.518200       5.725525        2.495325  \n",
       "50%     1826.900000        2.120650       6.596050        4.475400  \n",
       "75%     2028.102500        3.230275       7.137200        5.619075  \n",
       "max     2356.240000        4.126400       8.977000        8.871300  "
      ]
     },
     "execution_count": 4,
     "metadata": {},
     "output_type": "execute_result"
    }
   ],
   "source": [
    "# Describing the data \n",
    "df.describe() "
   ]
  },
  {
   "cell_type": "code",
   "execution_count": 5,
   "id": "386fe65e",
   "metadata": {},
   "outputs": [
    {
     "data": {
      "text/plain": [
       "Index(['P (kPa)', 'T (°C )', 'vf (m3/kg)', 'vg (m3/kg )', 'vfg (m3/kg )',\n",
       "       'hf (kJ/kg )', 'hg (kJ/kg )', 'hfg (kJ/kg )', 'uf (kJ/kg)',\n",
       "       'ug (kJ/kg)', 'ufg (kJ/kg )', 'sf (kJ/(kg K) ', 'sg (kJ/(kg K)',\n",
       "       'sfg kJ/(kg K) '],\n",
       "      dtype='object')"
      ]
     },
     "execution_count": 5,
     "metadata": {},
     "output_type": "execute_result"
    }
   ],
   "source": [
    "# Viewing all the columns names for the loaded dataframe \n",
    "df.columns"
   ]
  },
  {
   "cell_type": "code",
   "execution_count": 6,
   "id": "28820605",
   "metadata": {},
   "outputs": [
    {
     "data": {
      "text/plain": [
       "count    124.000000\n",
       "mean     202.883226\n",
       "std      105.045000\n",
       "min        6.990000\n",
       "25%      119.187500\n",
       "50%      178.220000\n",
       "75%      297.677500\n",
       "max      375.090000\n",
       "Name: T (°C ), dtype: float64"
      ]
     },
     "execution_count": 6,
     "metadata": {},
     "output_type": "execute_result"
    }
   ],
   "source": [
    "# Checking the max and min values for the temperature column data \n",
    "df['T (°C )'].describe() "
   ]
  },
  {
   "cell_type": "code",
   "execution_count": 7,
   "id": "9473aa19",
   "metadata": {},
   "outputs": [
    {
     "data": {
      "text/plain": [
       "count      124.000000\n",
       "mean      4950.322581\n",
       "std       6364.318564\n",
       "min          1.000000\n",
       "25%        193.750000\n",
       "50%        962.500000\n",
       "75%       8312.500000\n",
       "max      22000.000000\n",
       "Name: P (kPa), dtype: float64"
      ]
     },
     "execution_count": 7,
     "metadata": {},
     "output_type": "execute_result"
    }
   ],
   "source": [
    "# Checking the max and min values for the pressure column data points \n",
    "df['P (kPa)'].describe() "
   ]
  },
  {
   "cell_type": "code",
   "execution_count": 8,
   "id": "54e43688",
   "metadata": {},
   "outputs": [
    {
     "data": {
      "image/png": "[encoded data removed]",
      "text/plain": [
       "<Figure size 1440x936 with 1 Axes>"
      ]
     },
     "metadata": {},
     "output_type": "display_data"
    }
   ],
   "source": [
    "# Converting the values into numpy arrays \n",
    "temp = df['T (°C )'].values \n",
    "pressure = df['P (kPa)'].values \n",
    "\n",
    "# Simple plots \n",
    "# Setting the dimensions \n",
    "plt.figure(figsize=(20, 13)) \n",
    "\n",
    "# Plotting the Pressure, temperature curve \n",
    "plt.plot(pressure, temp) \n",
    "plt.ylabel('Temperature ,T(°C)') \n",
    "plt.xlabel('Pressure, P(kPa)') \n",
    "plt.grid(True)\n",
    "plt.show() "
   ]
  },
  {
   "cell_type": "code",
   "execution_count": 9,
   "id": "ab34dc12",
   "metadata": {},
   "outputs": [
    {
     "data": {
      "image/png": "[encoded data removed]",
      "text/plain": [
       "<Figure size 1440x936 with 1 Axes>"
      ]
     },
     "metadata": {},
     "output_type": "display_data"
    }
   ],
   "source": [
    "# Showing the temperature ranges on a histogram plot \n",
    "# Setting the dimensions \n",
    "plt.figure(figsize=(20, 13)) \n",
    "\n",
    "# Plotting the temperature as a hist plot \n",
    "sns.histplot(df['T (°C )'], color=\"g\") \n",
    "plt.xlabel(\"Temperature T('c)\") \n",
    "plt.grid(True) \n",
    "plt.show() "
   ]
  },
  {
   "cell_type": "code",
   "execution_count": 10,
   "id": "31a6d722",
   "metadata": {},
   "outputs": [
    {
     "data": {
      "image/png": "[encoded data removed]",
      "text/plain": [
       "<Figure size 1440x936 with 1 Axes>"
      ]
     },
     "metadata": {},
     "output_type": "display_data"
    }
   ],
   "source": [
    "# Setting the dimensions \n",
    "plt.figure(figsize=(20, 13)) \n",
    "\n",
    "# Plotting the pressure values as a hist plot  \n",
    "sns.histplot(pressure, color=\"b\") \n",
    "plt.xlabel(\"Pressure (Kpa)\") \n",
    "plt.grid(True) \n",
    "\n",
    "# Displaying the plot \n",
    "plt.show() "
   ]
  },
  {
   "cell_type": "code",
   "execution_count": 11,
   "id": "a0e0e32f",
   "metadata": {},
   "outputs": [
    {
     "data": {
      "text/plain": [
       "<Figure size 1440x936 with 0 Axes>"
      ]
     },
     "metadata": {},
     "output_type": "display_data"
    },
    {
     "data": {
      "image/png": "[encoded data removed]",
      "text/plain": [
       "<Figure size 842.4x1296 with 1 Axes>"
      ]
     },
     "metadata": {},
     "output_type": "display_data"
    }
   ],
   "source": [
    "# Comparing both the input and output variables \n",
    "# Setting the dimensions \n",
    "plt.figure(figsize=(20, 13))  \n",
    "\n",
    "# Exploring the dataset using a scatter plot \n",
    "sns.lmplot(x='P (kPa)', y='T (°C )', data=df, order=2, height=18, aspect=0.65) \n",
    "plt.xlabel(\"Pressure (Kpa) \") \n",
    "plt.ylabel(\"Temperature ('C) \") \n",
    "plt.show() "
   ]
  },
  {
   "cell_type": "code",
   "execution_count": 12,
   "id": "18f131cf",
   "metadata": {},
   "outputs": [
    {
     "name": "stdout",
     "output_type": "stream",
     "text": [
      "Input Shape: (124, 1)\n",
      "Output Shape: (124, 1)\n"
     ]
    }
   ],
   "source": [
    "# Reshaping the dataframe\n",
    "X = pressure.reshape(-1, 1) \n",
    "y = temp.reshape(-1, 1) \n",
    "\n",
    "# Displaying the dim of both the input and output labels \n",
    "print(f\"Input Shape: {X.shape}\") \n",
    "print(f\"Output Shape: {y.shape}\") "
   ]
  },
  {
   "cell_type": "code",
   "execution_count": 13,
   "id": "fb340fb2",
   "metadata": {
    "tags": []
   },
   "outputs": [
    {
     "name": "stdout",
     "output_type": "stream",
     "text": [
      "Input Shape: (93, 1), (31, 1)\n",
      "Output Shape: (93, 1), (31, 1)\n"
     ]
    }
   ],
   "source": [
    "# Splitting the traning samples into train test split data \n",
    "X_train, X_test, y_train, y_test = train_test_split(X, y) \n",
    "\n",
    "# Displaying the shape of the training dataset \n",
    "print(f\"Input Shape: {X_train.shape}, {X_test.shape}\") \n",
    "print(f\"Output Shape: {y_train.shape}, {y_test.shape}\") "
   ]
  },
  {
   "cell_type": "markdown",
   "id": "af6660d1",
   "metadata": {},
   "source": [
    "<h3> Using Linear Regression Model </h3> "
   ]
  },
  {
   "cell_type": "code",
   "execution_count": 14,
   "id": "44ceb933",
   "metadata": {},
   "outputs": [],
   "source": [
    "# Building a simple model using \"Linear Regression\" \n",
    "model = LinearRegression() "
   ]
  },
  {
   "cell_type": "code",
   "execution_count": 15,
   "id": "a9361412",
   "metadata": {},
   "outputs": [
    {
     "data": {
      "text/plain": [
       "0.7799247139258435"
      ]
     },
     "execution_count": 15,
     "metadata": {},
     "output_type": "execute_result"
    }
   ],
   "source": [
    "# Fitting the data \n",
    "# model.fit(X_train, y_train)\n",
    "model.fit(X, y)\n",
    "\n",
    "# Displaying the accuracy of the model \n",
    "model.score(X, y) "
   ]
  },
  {
   "cell_type": "code",
   "execution_count": 16,
   "id": "dd94121e",
   "metadata": {},
   "outputs": [
    {
     "data": {
      "text/plain": [
       "['tempModel.bin']"
      ]
     },
     "execution_count": 16,
     "metadata": {},
     "output_type": "execute_result"
    }
   ],
   "source": [
    "# Seralizing the temperature model using \"joblib\" \n",
    "temperature_model = \"tempModel.bin\"\n",
    "joblib.dump(model, temperature_model)"
   ]
  },
  {
   "cell_type": "code",
   "execution_count": 17,
   "id": "47ec2533",
   "metadata": {},
   "outputs": [],
   "source": [
    "# Reading the model into memory \n",
    "temperature_model = \"tempModel.bin\"\n",
    "model = joblib.load(temperature_model)"
   ]
  },
  {
   "cell_type": "code",
   "execution_count": 18,
   "id": "cb1d324b",
   "metadata": {},
   "outputs": [
    {
     "data": {
      "image/png": "[encoded data removed]",
      "text/plain": [
       "<Figure size 1440x936 with 1 Axes>"
      ]
     },
     "metadata": {},
     "output_type": "display_data"
    }
   ],
   "source": [
    "# Setting the dimensions \n",
    "plt.figure(figsize=(20, 13)) \n",
    "\n",
    "# Predictions \n",
    "y_pred = model.predict(X_test) \n",
    "plt.scatter(X_test, y_test, color=\"b\") \n",
    "plt.plot(X_test, y_pred, color=\"g\") \n",
    "plt.grid(True)\n",
    "plt.xlabel(\"Pressure (Kpa) \") \n",
    "plt.ylabel(\"Temperature ('C) \")\n",
    "\n",
    "plt.show() "
   ]
  },
  {
   "cell_type": "code",
   "execution_count": 19,
   "id": "2f30de79",
   "metadata": {},
   "outputs": [
    {
     "name": "stdout",
     "output_type": "stream",
     "text": [
      "The predicted temperature is: 132.20105312277164\n"
     ]
    }
   ],
   "source": [
    "# Random predictions \n",
    "pressure_value = 101.2345\n",
    "pressure_value = np.asarray(pressure_value).reshape(1, -1) \n",
    "\n",
    "# Making the predictions for the co-responding temperature value \n",
    "result = model.predict(pressure_value) \n",
    "print(f\"The predicted temperature is: {result[0][0]}\") "
   ]
  },
  {
   "cell_type": "code",
   "execution_count": 20,
   "id": "9f0126a4",
   "metadata": {},
   "outputs": [
    {
     "data": {
      "text/html": [
       "<div>\n",
       "<style scoped>\n",
       "    .dataframe tbody tr th:only-of-type {\n",
       "        vertical-align: middle;\n",
       "    }\n",
       "\n",
       "    .dataframe tbody tr th {\n",
       "        vertical-align: top;\n",
       "    }\n",
       "\n",
       "    .dataframe thead th {\n",
       "        text-align: right;\n",
       "    }\n",
       "</style>\n",
       "<table border=\"1\" class=\"dataframe\">\n",
       "  <thead>\n",
       "    <tr style=\"text-align: right;\">\n",
       "      <th></th>\n",
       "      <th>P (kPa)</th>\n",
       "      <th>T (°C )</th>\n",
       "      <th>vf (m3/kg)</th>\n",
       "      <th>vg (m3/kg )</th>\n",
       "      <th>vfg (m3/kg )</th>\n",
       "      <th>hf (kJ/kg )</th>\n",
       "      <th>hg (kJ/kg )</th>\n",
       "      <th>hfg (kJ/kg )</th>\n",
       "      <th>uf (kJ/kg)</th>\n",
       "      <th>ug (kJ/kg)</th>\n",
       "      <th>ufg (kJ/kg )</th>\n",
       "      <th>sf (kJ/(kg K)</th>\n",
       "      <th>sg (kJ/(kg K)</th>\n",
       "      <th>sfg kJ/(kg K)</th>\n",
       "    </tr>\n",
       "  </thead>\n",
       "  <tbody>\n",
       "    <tr>\n",
       "      <th>0</th>\n",
       "      <td>1</td>\n",
       "      <td>6.99</td>\n",
       "      <td>0.000997</td>\n",
       "      <td>128.97</td>\n",
       "      <td>128.97</td>\n",
       "      <td>29.40</td>\n",
       "      <td>2514.61</td>\n",
       "      <td>2485.21</td>\n",
       "      <td>29.40</td>\n",
       "      <td>2385.64</td>\n",
       "      <td>2356.24</td>\n",
       "      <td>0.1058</td>\n",
       "      <td>8.9770</td>\n",
       "      <td>8.8713</td>\n",
       "    </tr>\n",
       "    <tr>\n",
       "      <th>1</th>\n",
       "      <td>2</td>\n",
       "      <td>17.50</td>\n",
       "      <td>0.001000</td>\n",
       "      <td>67.00</td>\n",
       "      <td>67.00</td>\n",
       "      <td>73.42</td>\n",
       "      <td>2534.32</td>\n",
       "      <td>2460.90</td>\n",
       "      <td>73.42</td>\n",
       "      <td>2400.31</td>\n",
       "      <td>2326.89</td>\n",
       "      <td>0.2606</td>\n",
       "      <td>8.7254</td>\n",
       "      <td>8.4648</td>\n",
       "    </tr>\n",
       "    <tr>\n",
       "      <th>2</th>\n",
       "      <td>3</td>\n",
       "      <td>24.09</td>\n",
       "      <td>0.001002</td>\n",
       "      <td>45.66</td>\n",
       "      <td>45.66</td>\n",
       "      <td>100.97</td>\n",
       "      <td>2546.23</td>\n",
       "      <td>2445.26</td>\n",
       "      <td>100.97</td>\n",
       "      <td>2409.25</td>\n",
       "      <td>2308.28</td>\n",
       "      <td>0.3544</td>\n",
       "      <td>8.5791</td>\n",
       "      <td>8.2247</td>\n",
       "    </tr>\n",
       "    <tr>\n",
       "      <th>3</th>\n",
       "      <td>4</td>\n",
       "      <td>28.98</td>\n",
       "      <td>0.001003</td>\n",
       "      <td>34.79</td>\n",
       "      <td>34.79</td>\n",
       "      <td>121.38</td>\n",
       "      <td>2554.99</td>\n",
       "      <td>2433.61</td>\n",
       "      <td>121.38</td>\n",
       "      <td>2415.82</td>\n",
       "      <td>2294.44</td>\n",
       "      <td>0.4225</td>\n",
       "      <td>8.4759</td>\n",
       "      <td>8.0534</td>\n",
       "    </tr>\n",
       "    <tr>\n",
       "      <th>4</th>\n",
       "      <td>5</td>\n",
       "      <td>32.90</td>\n",
       "      <td>0.001005</td>\n",
       "      <td>28.19</td>\n",
       "      <td>28.18</td>\n",
       "      <td>137.74</td>\n",
       "      <td>2561.99</td>\n",
       "      <td>2424.25</td>\n",
       "      <td>137.73</td>\n",
       "      <td>2421.06</td>\n",
       "      <td>2283.33</td>\n",
       "      <td>0.4763</td>\n",
       "      <td>8.3963</td>\n",
       "      <td>7.9200</td>\n",
       "    </tr>\n",
       "  </tbody>\n",
       "</table>\n",
       "</div>"
      ],
      "text/plain": [
       "   P (kPa)  T (°C )  vf (m3/kg)  vg (m3/kg )  vfg (m3/kg )  hf (kJ/kg )  \\\n",
       "0        1     6.99    0.000997       128.97        128.97        29.40   \n",
       "1        2    17.50    0.001000        67.00         67.00        73.42   \n",
       "2        3    24.09    0.001002        45.66         45.66       100.97   \n",
       "3        4    28.98    0.001003        34.79         34.79       121.38   \n",
       "4        5    32.90    0.001005        28.19         28.18       137.74   \n",
       "\n",
       "   hg (kJ/kg )  hfg (kJ/kg )  uf (kJ/kg)  ug (kJ/kg)  ufg (kJ/kg )  \\\n",
       "0      2514.61       2485.21       29.40     2385.64       2356.24   \n",
       "1      2534.32       2460.90       73.42     2400.31       2326.89   \n",
       "2      2546.23       2445.26      100.97     2409.25       2308.28   \n",
       "3      2554.99       2433.61      121.38     2415.82       2294.44   \n",
       "4      2561.99       2424.25      137.73     2421.06       2283.33   \n",
       "\n",
       "   sf (kJ/(kg K)   sg (kJ/(kg K)  sfg kJ/(kg K)   \n",
       "0          0.1058         8.9770          8.8713  \n",
       "1          0.2606         8.7254          8.4648  \n",
       "2          0.3544         8.5791          8.2247  \n",
       "3          0.4225         8.4759          8.0534  \n",
       "4          0.4763         8.3963          7.9200  "
      ]
     },
     "execution_count": 20,
     "metadata": {},
     "output_type": "execute_result"
    }
   ],
   "source": [
    "df.head()"
   ]
  },
  {
   "cell_type": "code",
   "execution_count": null,
   "id": "98797c59",
   "metadata": {},
   "outputs": [],
   "source": []
  },
  {
   "cell_type": "code",
   "execution_count": 21,
   "id": "8dc30d50",
   "metadata": {},
   "outputs": [
    {
     "data": {
      "text/plain": [
       "['pressureModel.bin']"
      ]
     },
     "execution_count": 21,
     "metadata": {},
     "output_type": "execute_result"
    }
   ],
   "source": [
    "# Creating a model for prediction of pressure values \n",
    "X = temp.reshape(-1, 1) \n",
    "y = pressure.reshape(-1, 1)\n",
    "\n",
    "# Building a simple model using \"Linear Regression\" \n",
    "pressureModel =  LinearRegression()\n",
    "\n",
    "# fitting the model \n",
    "pressureModel.fit(X, y)\n",
    "pressureModel.score(X, y)\n",
    "\n",
    "# serialize the model to disk \n",
    "pressure_model = \"pressureModel.bin\"\n",
    "joblib.dump(pressureModel, pressure_model)"
   ]
  },
  {
   "cell_type": "code",
   "execution_count": 22,
   "id": "6f331ffe",
   "metadata": {},
   "outputs": [],
   "source": [
    "# Building a simple model using \"Linear Regression\" \n",
    "pressureModel =  LinearRegression()\n",
    "\n",
    "# loading the pressure model from disk \n",
    "pressure_model = \"pressureModel.bin\"; \n",
    "pressureModel = joblib.load(pressure_model); "
   ]
  },
  {
   "cell_type": "code",
   "execution_count": 23,
   "id": "c0d560f6",
   "metadata": {},
   "outputs": [
    {
     "data": {
      "text/plain": [
       "array([[1276.60673305]])"
      ]
     },
     "execution_count": 23,
     "metadata": {},
     "output_type": "execute_result"
    }
   ],
   "source": [
    "pressureModel.predict(np.array(134.2234).reshape(-1, 1))"
   ]
  },
  {
   "cell_type": "code",
   "execution_count": 24,
   "id": "3e22f685",
   "metadata": {},
   "outputs": [
    {
     "data": {
      "text/plain": [
       "array([[132.2]])"
      ]
     },
     "execution_count": 24,
     "metadata": {},
     "output_type": "execute_result"
    }
   ],
   "source": [
    "np.array(132.2).reshape(-1, 1)"
   ]
  },
  {
   "cell_type": "code",
   "execution_count": null,
   "id": "dc480ec0",
   "metadata": {},
   "outputs": [],
   "source": []
  },
  {
   "cell_type": "markdown",
   "id": "d7ea9691",
   "metadata": {},
   "source": [
    "<html>\n",
    "<h3>\n",
    "   <b> Working With Tensorflow </b>\n",
    "</h3>\n",
    "\n",
    " <p> \n",
    "     The type of predictive modelling problem for this task is <b> Linear Regression </b> \n",
    "</p> \n",
    "\n",
    "</html>"
   ]
  },
  {
   "cell_type": "code",
   "execution_count": 25,
   "id": "024b6715",
   "metadata": {},
   "outputs": [
    {
     "name": "stdout",
     "output_type": "stream",
     "text": [
      "# conda environments:\n",
      "#\n",
      "base                     /home/mbonu/anaconda3\n",
      "ml                    *  /home/mbonu/anaconda3/envs/ml\n",
      "tf_model                 /home/mbonu/anaconda3/envs/tf_model\n",
      "\n"
     ]
    }
   ],
   "source": [
    "# Displaying all the anaconda environments \n",
    "!conda info --envs "
   ]
  },
  {
   "cell_type": "code",
   "execution_count": 26,
   "id": "0ae903b6",
   "metadata": {},
   "outputs": [
    {
     "name": "stdout",
     "output_type": "stream",
     "text": [
      "WARNING:tensorflow:From /home/mbonu/anaconda3/envs/ml/lib/python3.8/site-packages/tensorflow/python/compat/v2_compat.py:101: disable_resource_variables (from tensorflow.python.ops.variable_scope) is deprecated and will be removed in a future version.\n",
      "Instructions for updating:\n",
      "non-resource variables are not supported in the long term\n"
     ]
    }
   ],
   "source": [
    "# Importing the necessary modules \n",
    "import os \n",
    "import joblib\n",
    "import numpy as np \n",
    "import pandas as pd \n",
    "import sklearn as sk  \n",
    "import seaborn as sns  \n",
    "import tensorflow.compat.v1 as tf\n",
    "import matplotlib.pyplot as plt \n",
    "from tensorflow.keras.optimizers import SGD, Adam\n",
    "from tensorflow.keras.layers import Dense, Input, Lambda, Concatenate\n",
    "from tensorflow.keras.models import Sequential, Model\n",
    "from sklearn.model_selection import train_test_split \n",
    "from sklearn.preprocessing import LabelBinarizer, LabelEncoder, StandardScaler\n",
    "\n",
    "# Disabling tensorflow version 2 behaviour \n",
    "tf.disable_v2_behavior() "
   ]
  },
  {
   "cell_type": "code",
   "execution_count": 27,
   "id": "f504591f",
   "metadata": {},
   "outputs": [
    {
     "data": {
      "text/html": [
       "<div>\n",
       "<style scoped>\n",
       "    .dataframe tbody tr th:only-of-type {\n",
       "        vertical-align: middle;\n",
       "    }\n",
       "\n",
       "    .dataframe tbody tr th {\n",
       "        vertical-align: top;\n",
       "    }\n",
       "\n",
       "    .dataframe thead th {\n",
       "        text-align: right;\n",
       "    }\n",
       "</style>\n",
       "<table border=\"1\" class=\"dataframe\">\n",
       "  <thead>\n",
       "    <tr style=\"text-align: right;\">\n",
       "      <th></th>\n",
       "      <th>P (kPa)</th>\n",
       "      <th>T (°C )</th>\n",
       "      <th>vf (m3/kg)</th>\n",
       "      <th>vg (m3/kg )</th>\n",
       "      <th>vfg (m3/kg )</th>\n",
       "      <th>hf (kJ/kg )</th>\n",
       "      <th>hg (kJ/kg )</th>\n",
       "      <th>hfg (kJ/kg )</th>\n",
       "      <th>uf (kJ/kg)</th>\n",
       "      <th>ug (kJ/kg)</th>\n",
       "      <th>ufg (kJ/kg )</th>\n",
       "      <th>sf (kJ/(kg K)</th>\n",
       "      <th>sg (kJ/(kg K)</th>\n",
       "      <th>sfg kJ/(kg K)</th>\n",
       "    </tr>\n",
       "  </thead>\n",
       "  <tbody>\n",
       "    <tr>\n",
       "      <th>0</th>\n",
       "      <td>1</td>\n",
       "      <td>6.99</td>\n",
       "      <td>0.000997</td>\n",
       "      <td>128.97</td>\n",
       "      <td>128.97</td>\n",
       "      <td>29.40</td>\n",
       "      <td>2514.61</td>\n",
       "      <td>2485.21</td>\n",
       "      <td>29.40</td>\n",
       "      <td>2385.64</td>\n",
       "      <td>2356.24</td>\n",
       "      <td>0.1058</td>\n",
       "      <td>8.9770</td>\n",
       "      <td>8.8713</td>\n",
       "    </tr>\n",
       "    <tr>\n",
       "      <th>1</th>\n",
       "      <td>2</td>\n",
       "      <td>17.50</td>\n",
       "      <td>0.001000</td>\n",
       "      <td>67.00</td>\n",
       "      <td>67.00</td>\n",
       "      <td>73.42</td>\n",
       "      <td>2534.32</td>\n",
       "      <td>2460.90</td>\n",
       "      <td>73.42</td>\n",
       "      <td>2400.31</td>\n",
       "      <td>2326.89</td>\n",
       "      <td>0.2606</td>\n",
       "      <td>8.7254</td>\n",
       "      <td>8.4648</td>\n",
       "    </tr>\n",
       "    <tr>\n",
       "      <th>2</th>\n",
       "      <td>3</td>\n",
       "      <td>24.09</td>\n",
       "      <td>0.001002</td>\n",
       "      <td>45.66</td>\n",
       "      <td>45.66</td>\n",
       "      <td>100.97</td>\n",
       "      <td>2546.23</td>\n",
       "      <td>2445.26</td>\n",
       "      <td>100.97</td>\n",
       "      <td>2409.25</td>\n",
       "      <td>2308.28</td>\n",
       "      <td>0.3544</td>\n",
       "      <td>8.5791</td>\n",
       "      <td>8.2247</td>\n",
       "    </tr>\n",
       "    <tr>\n",
       "      <th>3</th>\n",
       "      <td>4</td>\n",
       "      <td>28.98</td>\n",
       "      <td>0.001003</td>\n",
       "      <td>34.79</td>\n",
       "      <td>34.79</td>\n",
       "      <td>121.38</td>\n",
       "      <td>2554.99</td>\n",
       "      <td>2433.61</td>\n",
       "      <td>121.38</td>\n",
       "      <td>2415.82</td>\n",
       "      <td>2294.44</td>\n",
       "      <td>0.4225</td>\n",
       "      <td>8.4759</td>\n",
       "      <td>8.0534</td>\n",
       "    </tr>\n",
       "    <tr>\n",
       "      <th>4</th>\n",
       "      <td>5</td>\n",
       "      <td>32.90</td>\n",
       "      <td>0.001005</td>\n",
       "      <td>28.19</td>\n",
       "      <td>28.18</td>\n",
       "      <td>137.74</td>\n",
       "      <td>2561.99</td>\n",
       "      <td>2424.25</td>\n",
       "      <td>137.73</td>\n",
       "      <td>2421.06</td>\n",
       "      <td>2283.33</td>\n",
       "      <td>0.4763</td>\n",
       "      <td>8.3963</td>\n",
       "      <td>7.9200</td>\n",
       "    </tr>\n",
       "  </tbody>\n",
       "</table>\n",
       "</div>"
      ],
      "text/plain": [
       "   P (kPa)  T (°C )  vf (m3/kg)  vg (m3/kg )  vfg (m3/kg )  hf (kJ/kg )  \\\n",
       "0        1     6.99    0.000997       128.97        128.97        29.40   \n",
       "1        2    17.50    0.001000        67.00         67.00        73.42   \n",
       "2        3    24.09    0.001002        45.66         45.66       100.97   \n",
       "3        4    28.98    0.001003        34.79         34.79       121.38   \n",
       "4        5    32.90    0.001005        28.19         28.18       137.74   \n",
       "\n",
       "   hg (kJ/kg )  hfg (kJ/kg )  uf (kJ/kg)  ug (kJ/kg)  ufg (kJ/kg )  \\\n",
       "0      2514.61       2485.21       29.40     2385.64       2356.24   \n",
       "1      2534.32       2460.90       73.42     2400.31       2326.89   \n",
       "2      2546.23       2445.26      100.97     2409.25       2308.28   \n",
       "3      2554.99       2433.61      121.38     2415.82       2294.44   \n",
       "4      2561.99       2424.25      137.73     2421.06       2283.33   \n",
       "\n",
       "   sf (kJ/(kg K)   sg (kJ/(kg K)  sfg kJ/(kg K)   \n",
       "0          0.1058         8.9770          8.8713  \n",
       "1          0.2606         8.7254          8.4648  \n",
       "2          0.3544         8.5791          8.2247  \n",
       "3          0.4225         8.4759          8.0534  \n",
       "4          0.4763         8.3963          7.9200  "
      ]
     },
     "execution_count": 27,
     "metadata": {},
     "output_type": "execute_result"
    }
   ],
   "source": [
    "# Setting the dataset path\n",
    "dataset = \"steam_tables.xlsx\" \n",
    "\n",
    "# Loading the steam tables into memory \n",
    "df = pd.read_excel(dataset) \n",
    "\n",
    "# Viewing the head of the loaded dataframe \n",
    "df.head() "
   ]
  },
  {
   "cell_type": "code",
   "execution_count": 28,
   "id": "1b06d2a4",
   "metadata": {},
   "outputs": [
    {
     "data": {
      "text/plain": [
       "P (kPa)           0\n",
       "T (°C )           0\n",
       "vf (m3/kg)        0\n",
       "vg (m3/kg )       0\n",
       "vfg (m3/kg )      0\n",
       "hf (kJ/kg )       0\n",
       "hg (kJ/kg )       0\n",
       "hfg (kJ/kg )      0\n",
       "uf (kJ/kg)        0\n",
       "ug (kJ/kg)        0\n",
       "ufg (kJ/kg )      0\n",
       "sf (kJ/(kg K)     0\n",
       "sg (kJ/(kg K)     0\n",
       "sfg kJ/(kg K)     0\n",
       "dtype: int64"
      ]
     },
     "execution_count": 28,
     "metadata": {},
     "output_type": "execute_result"
    }
   ],
   "source": [
    "# Check if the dataframe has null or NaN values \n",
    "df.isna().sum() "
   ]
  },
  {
   "cell_type": "code",
   "execution_count": 29,
   "id": "1107d880",
   "metadata": {},
   "outputs": [],
   "source": [
    "# Drop the NaN values \n",
    "df = df.dropna() "
   ]
  },
  {
   "cell_type": "code",
   "execution_count": 30,
   "id": "b1d335eb",
   "metadata": {},
   "outputs": [
    {
     "data": {
      "text/plain": [
       "Index(['P (kPa)', 'T (°C )', 'vf (m3/kg)', 'vg (m3/kg )', 'vfg (m3/kg )',\n",
       "       'hf (kJ/kg )', 'hg (kJ/kg )', 'hfg (kJ/kg )', 'uf (kJ/kg)',\n",
       "       'ug (kJ/kg)', 'ufg (kJ/kg )', 'sf (kJ/(kg K) ', 'sg (kJ/(kg K)',\n",
       "       'sfg kJ/(kg K) '],\n",
       "      dtype='object')"
      ]
     },
     "execution_count": 30,
     "metadata": {},
     "output_type": "execute_result"
    }
   ],
   "source": [
    "# Getting all the columns names \n",
    "df.columns"
   ]
  },
  {
   "cell_type": "code",
   "execution_count": 31,
   "id": "1bd6af58",
   "metadata": {},
   "outputs": [
    {
     "name": "stdout",
     "output_type": "stream",
     "text": [
      "Pressure Data Shape:  (124, 1)\n",
      "Pressure Data Type:  float32\n",
      "Temperature Data Shape:  (124, 1)\n",
      "Temperature Data Type:  float32\n"
     ]
    }
   ],
   "source": [
    "# Splitting the dataset into input and output target variables,\n",
    "# Reshape the dataset for further pre-processing. \n",
    "pressureValues = df[\"P (kPa)\"].values.reshape(-1, 1); \n",
    "temperatureValues = df[\"T (°C )\"].values.reshape(-1, 1); \n",
    "\n",
    "# Converting the dataset into datatype of \"float32\" \n",
    "pressureValues = np.asarray(pressureValues, dtype=\"float32\");\n",
    "temperatureValues = np.asarray(temperatureValues, dtype=\"float32\");  \n",
    "\n",
    "# Displaying the shape, and type of the pressure data. \n",
    "print(\"Pressure Data Shape: \", pressureValues.shape)\n",
    "print(\"Pressure Data Type: \", pressureValues.dtype); \n",
    "\n",
    "# Displaying the shape, and type of the temperature data. \n",
    "print(\"Temperature Data Shape: \", temperatureValues.shape); \n",
    "print(\"Temperature Data Type: \", temperatureValues.dtype);"
   ]
  },
  {
   "cell_type": "code",
   "execution_count": 32,
   "id": "3b3780ac",
   "metadata": {},
   "outputs": [
    {
     "data": {
      "image/png": "[encoded data removed]",
      "text/plain": [
       "<Figure size 720x720 with 20 Axes>"
      ]
     },
     "metadata": {},
     "output_type": "display_data"
    }
   ],
   "source": [
    "# Inspect the data\n",
    "sns.pairplot(df[['P (kPa)', 'T (°C )', 'vf (m3/kg)', 'hf (kJ/kg )']], diag_kind='kde')\n",
    "\n",
    "# Display the plot \n",
    "plt.show() "
   ]
  },
  {
   "cell_type": "code",
   "execution_count": 33,
   "id": "94b62d78",
   "metadata": {},
   "outputs": [
    {
     "data": {
      "text/html": [
       "<div>\n",
       "<style scoped>\n",
       "    .dataframe tbody tr th:only-of-type {\n",
       "        vertical-align: middle;\n",
       "    }\n",
       "\n",
       "    .dataframe tbody tr th {\n",
       "        vertical-align: top;\n",
       "    }\n",
       "\n",
       "    .dataframe thead th {\n",
       "        text-align: right;\n",
       "    }\n",
       "</style>\n",
       "<table border=\"1\" class=\"dataframe\">\n",
       "  <thead>\n",
       "    <tr style=\"text-align: right;\">\n",
       "      <th></th>\n",
       "      <th>count</th>\n",
       "      <th>mean</th>\n",
       "      <th>std</th>\n",
       "      <th>min</th>\n",
       "      <th>25%</th>\n",
       "      <th>50%</th>\n",
       "      <th>75%</th>\n",
       "      <th>max</th>\n",
       "    </tr>\n",
       "  </thead>\n",
       "  <tbody>\n",
       "    <tr>\n",
       "      <th>P (kPa)</th>\n",
       "      <td>124.0</td>\n",
       "      <td>4950.322581</td>\n",
       "      <td>6364.318564</td>\n",
       "      <td>1.000000</td>\n",
       "      <td>193.750000</td>\n",
       "      <td>962.500000</td>\n",
       "      <td>8312.500000</td>\n",
       "      <td>22000.000000</td>\n",
       "    </tr>\n",
       "    <tr>\n",
       "      <th>T (°C )</th>\n",
       "      <td>124.0</td>\n",
       "      <td>202.883226</td>\n",
       "      <td>105.045000</td>\n",
       "      <td>6.990000</td>\n",
       "      <td>119.187500</td>\n",
       "      <td>178.220000</td>\n",
       "      <td>297.677500</td>\n",
       "      <td>375.090000</td>\n",
       "    </tr>\n",
       "    <tr>\n",
       "      <th>vf (m3/kg)</th>\n",
       "      <td>124.0</td>\n",
       "      <td>0.001251</td>\n",
       "      <td>0.000247</td>\n",
       "      <td>0.000997</td>\n",
       "      <td>0.001060</td>\n",
       "      <td>0.001125</td>\n",
       "      <td>0.001396</td>\n",
       "      <td>0.001892</td>\n",
       "    </tr>\n",
       "    <tr>\n",
       "      <th>vg (m3/kg )</th>\n",
       "      <td>124.0</td>\n",
       "      <td>3.891066</td>\n",
       "      <td>14.389949</td>\n",
       "      <td>0.005867</td>\n",
       "      <td>0.022516</td>\n",
       "      <td>0.201700</td>\n",
       "      <td>0.914125</td>\n",
       "      <td>128.970000</td>\n",
       "    </tr>\n",
       "    <tr>\n",
       "      <th>vfg (m3/kg )</th>\n",
       "      <td>124.0</td>\n",
       "      <td>3.889911</td>\n",
       "      <td>14.390070</td>\n",
       "      <td>0.003975</td>\n",
       "      <td>0.021120</td>\n",
       "      <td>0.200600</td>\n",
       "      <td>0.913300</td>\n",
       "      <td>128.970000</td>\n",
       "    </tr>\n",
       "    <tr>\n",
       "      <th>hf (kJ/kg )</th>\n",
       "      <td>124.0</td>\n",
       "      <td>906.587661</td>\n",
       "      <td>510.154747</td>\n",
       "      <td>29.400000</td>\n",
       "      <td>500.047500</td>\n",
       "      <td>754.920000</td>\n",
       "      <td>1331.657500</td>\n",
       "      <td>1881.570000</td>\n",
       "    </tr>\n",
       "    <tr>\n",
       "      <th>hg (kJ/kg )</th>\n",
       "      <td>124.0</td>\n",
       "      <td>2718.134677</td>\n",
       "      <td>71.377426</td>\n",
       "      <td>2514.610000</td>\n",
       "      <td>2667.580000</td>\n",
       "      <td>2741.035000</td>\n",
       "      <td>2773.585000</td>\n",
       "      <td>2802.330000</td>\n",
       "    </tr>\n",
       "    <tr>\n",
       "      <th>hfg (kJ/kg )</th>\n",
       "      <td>124.0</td>\n",
       "      <td>1811.546774</td>\n",
       "      <td>485.912267</td>\n",
       "      <td>752.210000</td>\n",
       "      <td>1440.145000</td>\n",
       "      <td>2019.925000</td>\n",
       "      <td>2204.612500</td>\n",
       "      <td>2485.210000</td>\n",
       "    </tr>\n",
       "    <tr>\n",
       "      <th>uf (kJ/kg)</th>\n",
       "      <td>124.0</td>\n",
       "      <td>898.846613</td>\n",
       "      <td>500.417412</td>\n",
       "      <td>29.400000</td>\n",
       "      <td>499.842500</td>\n",
       "      <td>753.835000</td>\n",
       "      <td>1320.055000</td>\n",
       "      <td>1839.960000</td>\n",
       "    </tr>\n",
       "    <tr>\n",
       "      <th>ug (kJ/kg)</th>\n",
       "      <td>124.0</td>\n",
       "      <td>2542.931935</td>\n",
       "      <td>53.039034</td>\n",
       "      <td>2385.640000</td>\n",
       "      <td>2512.620000</td>\n",
       "      <td>2559.375000</td>\n",
       "      <td>2581.955000</td>\n",
       "      <td>2602.310000</td>\n",
       "    </tr>\n",
       "    <tr>\n",
       "      <th>ufg (kJ/kg )</th>\n",
       "      <td>124.0</td>\n",
       "      <td>1644.084839</td>\n",
       "      <td>473.861716</td>\n",
       "      <td>664.760000</td>\n",
       "      <td>1264.625000</td>\n",
       "      <td>1826.900000</td>\n",
       "      <td>2028.102500</td>\n",
       "      <td>2356.240000</td>\n",
       "    </tr>\n",
       "    <tr>\n",
       "      <th>sf (kJ/(kg K)</th>\n",
       "      <td>124.0</td>\n",
       "      <td>2.314902</td>\n",
       "      <td>1.065345</td>\n",
       "      <td>0.105800</td>\n",
       "      <td>1.518200</td>\n",
       "      <td>2.120650</td>\n",
       "      <td>3.230275</td>\n",
       "      <td>4.126400</td>\n",
       "    </tr>\n",
       "    <tr>\n",
       "      <th>sg (kJ/(kg K)</th>\n",
       "      <td>124.0</td>\n",
       "      <td>6.521671</td>\n",
       "      <td>0.955574</td>\n",
       "      <td>5.052500</td>\n",
       "      <td>5.725525</td>\n",
       "      <td>6.596050</td>\n",
       "      <td>7.137200</td>\n",
       "      <td>8.977000</td>\n",
       "    </tr>\n",
       "    <tr>\n",
       "      <th>sfg kJ/(kg K)</th>\n",
       "      <td>124.0</td>\n",
       "      <td>4.206765</td>\n",
       "      <td>2.017759</td>\n",
       "      <td>0.926100</td>\n",
       "      <td>2.495325</td>\n",
       "      <td>4.475400</td>\n",
       "      <td>5.619075</td>\n",
       "      <td>8.871300</td>\n",
       "    </tr>\n",
       "  </tbody>\n",
       "</table>\n",
       "</div>"
      ],
      "text/plain": [
       "                count         mean          std          min          25%  \\\n",
       "P (kPa)         124.0  4950.322581  6364.318564     1.000000   193.750000   \n",
       "T (°C )         124.0   202.883226   105.045000     6.990000   119.187500   \n",
       "vf (m3/kg)      124.0     0.001251     0.000247     0.000997     0.001060   \n",
       "vg (m3/kg )     124.0     3.891066    14.389949     0.005867     0.022516   \n",
       "vfg (m3/kg )    124.0     3.889911    14.390070     0.003975     0.021120   \n",
       "hf (kJ/kg )     124.0   906.587661   510.154747    29.400000   500.047500   \n",
       "hg (kJ/kg )     124.0  2718.134677    71.377426  2514.610000  2667.580000   \n",
       "hfg (kJ/kg )    124.0  1811.546774   485.912267   752.210000  1440.145000   \n",
       "uf (kJ/kg)      124.0   898.846613   500.417412    29.400000   499.842500   \n",
       "ug (kJ/kg)      124.0  2542.931935    53.039034  2385.640000  2512.620000   \n",
       "ufg (kJ/kg )    124.0  1644.084839   473.861716   664.760000  1264.625000   \n",
       "sf (kJ/(kg K)   124.0     2.314902     1.065345     0.105800     1.518200   \n",
       "sg (kJ/(kg K)   124.0     6.521671     0.955574     5.052500     5.725525   \n",
       "sfg kJ/(kg K)   124.0     4.206765     2.017759     0.926100     2.495325   \n",
       "\n",
       "                        50%          75%           max  \n",
       "P (kPa)          962.500000  8312.500000  22000.000000  \n",
       "T (°C )          178.220000   297.677500    375.090000  \n",
       "vf (m3/kg)         0.001125     0.001396      0.001892  \n",
       "vg (m3/kg )        0.201700     0.914125    128.970000  \n",
       "vfg (m3/kg )       0.200600     0.913300    128.970000  \n",
       "hf (kJ/kg )      754.920000  1331.657500   1881.570000  \n",
       "hg (kJ/kg )     2741.035000  2773.585000   2802.330000  \n",
       "hfg (kJ/kg )    2019.925000  2204.612500   2485.210000  \n",
       "uf (kJ/kg)       753.835000  1320.055000   1839.960000  \n",
       "ug (kJ/kg)      2559.375000  2581.955000   2602.310000  \n",
       "ufg (kJ/kg )    1826.900000  2028.102500   2356.240000  \n",
       "sf (kJ/(kg K)      2.120650     3.230275      4.126400  \n",
       "sg (kJ/(kg K)      6.596050     7.137200      8.977000  \n",
       "sfg kJ/(kg K)      4.475400     5.619075      8.871300  "
      ]
     },
     "execution_count": 33,
     "metadata": {},
     "output_type": "execute_result"
    }
   ],
   "source": [
    "# Checking the overall statistics \n",
    "df.describe().transpose() "
   ]
  },
  {
   "cell_type": "code",
   "execution_count": 34,
   "id": "96383296",
   "metadata": {},
   "outputs": [
    {
     "data": {
      "text/html": [
       "<div>\n",
       "<style scoped>\n",
       "    .dataframe tbody tr th:only-of-type {\n",
       "        vertical-align: middle;\n",
       "    }\n",
       "\n",
       "    .dataframe tbody tr th {\n",
       "        vertical-align: top;\n",
       "    }\n",
       "\n",
       "    .dataframe thead th {\n",
       "        text-align: right;\n",
       "    }\n",
       "</style>\n",
       "<table border=\"1\" class=\"dataframe\">\n",
       "  <thead>\n",
       "    <tr style=\"text-align: right;\">\n",
       "      <th></th>\n",
       "      <th>mean</th>\n",
       "      <th>std</th>\n",
       "    </tr>\n",
       "  </thead>\n",
       "  <tbody>\n",
       "    <tr>\n",
       "      <th>P (kPa)</th>\n",
       "      <td>4950.322581</td>\n",
       "      <td>6364.318564</td>\n",
       "    </tr>\n",
       "    <tr>\n",
       "      <th>T (°C )</th>\n",
       "      <td>202.883226</td>\n",
       "      <td>105.045000</td>\n",
       "    </tr>\n",
       "    <tr>\n",
       "      <th>vf (m3/kg)</th>\n",
       "      <td>0.001251</td>\n",
       "      <td>0.000247</td>\n",
       "    </tr>\n",
       "    <tr>\n",
       "      <th>vg (m3/kg )</th>\n",
       "      <td>3.891066</td>\n",
       "      <td>14.389949</td>\n",
       "    </tr>\n",
       "    <tr>\n",
       "      <th>vfg (m3/kg )</th>\n",
       "      <td>3.889911</td>\n",
       "      <td>14.390070</td>\n",
       "    </tr>\n",
       "    <tr>\n",
       "      <th>hf (kJ/kg )</th>\n",
       "      <td>906.587661</td>\n",
       "      <td>510.154747</td>\n",
       "    </tr>\n",
       "    <tr>\n",
       "      <th>hg (kJ/kg )</th>\n",
       "      <td>2718.134677</td>\n",
       "      <td>71.377426</td>\n",
       "    </tr>\n",
       "    <tr>\n",
       "      <th>hfg (kJ/kg )</th>\n",
       "      <td>1811.546774</td>\n",
       "      <td>485.912267</td>\n",
       "    </tr>\n",
       "    <tr>\n",
       "      <th>uf (kJ/kg)</th>\n",
       "      <td>898.846613</td>\n",
       "      <td>500.417412</td>\n",
       "    </tr>\n",
       "    <tr>\n",
       "      <th>ug (kJ/kg)</th>\n",
       "      <td>2542.931935</td>\n",
       "      <td>53.039034</td>\n",
       "    </tr>\n",
       "    <tr>\n",
       "      <th>ufg (kJ/kg )</th>\n",
       "      <td>1644.084839</td>\n",
       "      <td>473.861716</td>\n",
       "    </tr>\n",
       "    <tr>\n",
       "      <th>sf (kJ/(kg K)</th>\n",
       "      <td>2.314902</td>\n",
       "      <td>1.065345</td>\n",
       "    </tr>\n",
       "    <tr>\n",
       "      <th>sg (kJ/(kg K)</th>\n",
       "      <td>6.521671</td>\n",
       "      <td>0.955574</td>\n",
       "    </tr>\n",
       "    <tr>\n",
       "      <th>sfg kJ/(kg K)</th>\n",
       "      <td>4.206765</td>\n",
       "      <td>2.017759</td>\n",
       "    </tr>\n",
       "  </tbody>\n",
       "</table>\n",
       "</div>"
      ],
      "text/plain": [
       "                       mean          std\n",
       "P (kPa)         4950.322581  6364.318564\n",
       "T (°C )          202.883226   105.045000\n",
       "vf (m3/kg)         0.001251     0.000247\n",
       "vg (m3/kg )        3.891066    14.389949\n",
       "vfg (m3/kg )       3.889911    14.390070\n",
       "hf (kJ/kg )      906.587661   510.154747\n",
       "hg (kJ/kg )     2718.134677    71.377426\n",
       "hfg (kJ/kg )    1811.546774   485.912267\n",
       "uf (kJ/kg)       898.846613   500.417412\n",
       "ug (kJ/kg)      2542.931935    53.039034\n",
       "ufg (kJ/kg )    1644.084839   473.861716\n",
       "sf (kJ/(kg K)      2.314902     1.065345\n",
       "sg (kJ/(kg K)      6.521671     0.955574\n",
       "sfg kJ/(kg K)      4.206765     2.017759"
      ]
     },
     "execution_count": 34,
     "metadata": {},
     "output_type": "execute_result"
    }
   ],
   "source": [
    "# Normalization \n",
    "\"\"\"\n",
    "In the table of statistics, it's easy to see how different the ranges\n",
    "of each feature are. \n",
    "\"\"\"\n",
    "df.describe().transpose()[['mean', 'std']] "
   ]
  },
  {
   "cell_type": "code",
   "execution_count": 35,
   "id": "23ee3a7c",
   "metadata": {},
   "outputs": [],
   "source": [
    "# Creating an instance of the encoder class \"standardScaler\" \n",
    "pressure_enc = StandardScaler() \n",
    "temp_enc = StandardScaler()\n",
    "\n",
    "# Scaling the pressure data, temperature  \n",
    "pressureScaled = pressure_enc.fit_transform(pressureValues) \n",
    "temperatureScaled = temp_enc.fit_transform(temperatureValues)"
   ]
  },
  {
   "cell_type": "code",
   "execution_count": 36,
   "id": "83a3b226",
   "metadata": {},
   "outputs": [],
   "source": [
    "# \n",
    "# def build_model():\n",
    "#     model = Sequential() \n",
    "#     model.add(Dense(120, input_dim=1))\n",
    "#     model.add(Dense(32, activation=\"relu\")) \n",
    "#     model.add(Dense(32, activation=\"relu\"))\n",
    "#     model.add(Dense(8, activation=\"relu\")) \n",
    "#     model.add(Dense(1)) \n",
    "    \n",
    "#     return model "
   ]
  },
  {
   "cell_type": "markdown",
   "id": "738598fb-028a-490e-8fa8-1ecaeafaff7c",
   "metadata": {},
   "source": [
    "<h3> Pressure Model </h3> "
   ]
  },
  {
   "cell_type": "code",
   "execution_count": 37,
   "id": "3fc06d12",
   "metadata": {},
   "outputs": [],
   "source": [
    "# Building the neural network model\n",
    "def build_model():\n",
    "    model = Sequential() \n",
    "    model.add(Dense(250, input_dim=1))\n",
    "    model.add(Dense(150, activation=\"relu\")) \n",
    "    model.add(Dense(120, activation=\"relu\")) \n",
    "    model.add(Dense(32, activation=\"relu\")) \n",
    "    model.add(Dense(8, activation=\"relu\")) \n",
    "    model.add(Dense(1)) \n",
    "    \n",
    "    # Returning the model\n",
    "    return model \n",
    "    \n",
    "\n",
    "# callback = tf.keras.callbacks.LearningRateScheduler(scheduler) \n",
    "optimizer = Adam() \n",
    "model = build_model() \n",
    "\n",
    "# Compiling the model\n",
    "model.compile(loss=\"mean_squared_error\", optimizer=\"sgd\")  "
   ]
  },
  {
   "cell_type": "code",
   "execution_count": 38,
   "id": "7428d9ef",
   "metadata": {},
   "outputs": [
    {
     "name": "stdout",
     "output_type": "stream",
     "text": [
      "Model: \"sequential\"\n",
      "_________________________________________________________________\n",
      "Layer (type)                 Output Shape              Param #   \n",
      "=================================================================\n",
      "dense (Dense)                (None, 250)               500       \n",
      "_________________________________________________________________\n",
      "dense_1 (Dense)              (None, 150)               37650     \n",
      "_________________________________________________________________\n",
      "dense_2 (Dense)              (None, 120)               18120     \n",
      "_________________________________________________________________\n",
      "dense_3 (Dense)              (None, 32)                3872      \n",
      "_________________________________________________________________\n",
      "dense_4 (Dense)              (None, 8)                 264       \n",
      "_________________________________________________________________\n",
      "dense_5 (Dense)              (None, 1)                 9         \n",
      "=================================================================\n",
      "Total params: 60,415\n",
      "Trainable params: 60,415\n",
      "Non-trainable params: 0\n",
      "_________________________________________________________________\n"
     ]
    }
   ],
   "source": [
    "# Model summary \n",
    "model.summary() "
   ]
  },
  {
   "cell_type": "code",
   "execution_count": 39,
   "id": "da38e357",
   "metadata": {
    "tags": []
   },
   "outputs": [
    {
     "name": "stderr",
     "output_type": "stream",
     "text": [
      "2022-04-17 02:20:13.758563: I tensorflow/core/platform/cpu_feature_guard.cc:142] This TensorFlow binary is optimized with oneAPI Deep Neural Network Library (oneDNN) to use the following CPU instructions in performance-critical operations:  SSE4.1 SSE4.2 AVX AVX2 FMA\n",
      "To enable them in other operations, rebuild TensorFlow with the appropriate compiler flags.\n",
      "2022-04-17 02:20:13.758967: I tensorflow/core/common_runtime/process_util.cc:146] Creating new thread pool with default inter op setting: 2. Tune using inter_op_parallelism_threads for best performance.\n"
     ]
    }
   ],
   "source": [
    "# Fitting the data \n",
    "H = model.fit(temperatureScaled, pressureScaled, batch_size=20, epochs=1000, verbose=0) "
   ]
  },
  {
   "cell_type": "code",
   "execution_count": 40,
   "id": "217f2673",
   "metadata": {},
   "outputs": [
    {
     "data": {
      "text/plain": [
       "['temperature_encoder.bin']"
      ]
     },
     "execution_count": 40,
     "metadata": {},
     "output_type": "execute_result"
    }
   ],
   "source": [
    "# Saving the model to disk \n",
    "# model.save(\"pressureModel.h5\", save_format=\"h5\")\n",
    "\n",
    "# Getting the file path for both the pressure encoder \n",
    "# and the temperature encoder \n",
    "pressure_encoder = \"pressure_encoder.bin\" \n",
    "temp_encoder = \"temperature_encoder.bin\"\n",
    "\n",
    "# Saving the encoders to disk \n",
    "joblib.dump(pressure_enc, pressure_encoder)\n",
    "joblib.dump(temp_enc, temp_encoder)"
   ]
  },
  {
   "cell_type": "code",
   "execution_count": 41,
   "id": "7e31b174",
   "metadata": {},
   "outputs": [
    {
     "name": "stderr",
     "output_type": "stream",
     "text": [
      "/home/mbonu/anaconda3/envs/ml/lib/python3.8/site-packages/tensorflow/python/keras/engine/training.py:2464: UserWarning: `Model.state_updates` will be removed in a future version. This property should not be used in TensorFlow 2.0, as `updates` are applied automatically.\n",
      "  warnings.warn('`Model.state_updates` will be removed in a future version. '\n"
     ]
    },
    {
     "data": {
      "image/png": "[encoded data removed]",
      "text/plain": [
       "<Figure size 1440x936 with 1 Axes>"
      ]
     },
     "metadata": {},
     "output_type": "display_data"
    }
   ],
   "source": [
    "# Scaling back \n",
    "plt.figure(figsize=(20, 13))\n",
    "\n",
    "# \n",
    "classes = model.predict(temperatureScaled) \n",
    "predictedPressure = pressure_enc.inverse_transform(classes)\n",
    "Temp = temperatureValues\n",
    "\n",
    "# \n",
    "plt.plot(predictedPressure, temperatureValues, c=\"r\") \n",
    "plt.plot(pressureValues, temperatureValues, c=\"b\")\n",
    "\n",
    "plt.show() "
   ]
  },
  {
   "cell_type": "code",
   "execution_count": 42,
   "id": "4087f784",
   "metadata": {
    "tags": []
   },
   "outputs": [
    {
     "data": {
      "text/plain": [
       "array([[630.3138]], dtype=float32)"
      ]
     },
     "execution_count": 42,
     "metadata": {},
     "output_type": "execute_result"
    }
   ],
   "source": [
    "test_array = np.array([160.43]).reshape(1, -1) \n",
    "test_array = temp_enc.transform(test_array) \n",
    "\n",
    "result = model.predict(test_array)\n",
    "result = pressure_enc.inverse_transform(result)\n",
    "result"
   ]
  },
  {
   "cell_type": "markdown",
   "id": "f94753e1-9e7b-43df-a81b-f2c22bce4c65",
   "metadata": {},
   "source": [
    "<h3> Temperature Model </h3> "
   ]
  },
  {
   "cell_type": "code",
   "execution_count": 43,
   "id": "4b5febb1",
   "metadata": {},
   "outputs": [
    {
     "data": {
      "text/html": [
       "<div>\n",
       "<style scoped>\n",
       "    .dataframe tbody tr th:only-of-type {\n",
       "        vertical-align: middle;\n",
       "    }\n",
       "\n",
       "    .dataframe tbody tr th {\n",
       "        vertical-align: top;\n",
       "    }\n",
       "\n",
       "    .dataframe thead th {\n",
       "        text-align: right;\n",
       "    }\n",
       "</style>\n",
       "<table border=\"1\" class=\"dataframe\">\n",
       "  <thead>\n",
       "    <tr style=\"text-align: right;\">\n",
       "      <th></th>\n",
       "      <th>P (kPa)</th>\n",
       "      <th>T (°C )</th>\n",
       "      <th>vf (m3/kg)</th>\n",
       "      <th>vg (m3/kg )</th>\n",
       "      <th>vfg (m3/kg )</th>\n",
       "      <th>hf (kJ/kg )</th>\n",
       "      <th>hg (kJ/kg )</th>\n",
       "      <th>hfg (kJ/kg )</th>\n",
       "      <th>uf (kJ/kg)</th>\n",
       "      <th>ug (kJ/kg)</th>\n",
       "      <th>ufg (kJ/kg )</th>\n",
       "      <th>sf (kJ/(kg K)</th>\n",
       "      <th>sg (kJ/(kg K)</th>\n",
       "      <th>sfg kJ/(kg K)</th>\n",
       "    </tr>\n",
       "  </thead>\n",
       "  <tbody>\n",
       "    <tr>\n",
       "      <th>0</th>\n",
       "      <td>1</td>\n",
       "      <td>6.99</td>\n",
       "      <td>0.000997</td>\n",
       "      <td>128.97</td>\n",
       "      <td>128.97</td>\n",
       "      <td>29.40</td>\n",
       "      <td>2514.61</td>\n",
       "      <td>2485.21</td>\n",
       "      <td>29.40</td>\n",
       "      <td>2385.64</td>\n",
       "      <td>2356.24</td>\n",
       "      <td>0.1058</td>\n",
       "      <td>8.9770</td>\n",
       "      <td>8.8713</td>\n",
       "    </tr>\n",
       "    <tr>\n",
       "      <th>1</th>\n",
       "      <td>2</td>\n",
       "      <td>17.50</td>\n",
       "      <td>0.001000</td>\n",
       "      <td>67.00</td>\n",
       "      <td>67.00</td>\n",
       "      <td>73.42</td>\n",
       "      <td>2534.32</td>\n",
       "      <td>2460.90</td>\n",
       "      <td>73.42</td>\n",
       "      <td>2400.31</td>\n",
       "      <td>2326.89</td>\n",
       "      <td>0.2606</td>\n",
       "      <td>8.7254</td>\n",
       "      <td>8.4648</td>\n",
       "    </tr>\n",
       "    <tr>\n",
       "      <th>2</th>\n",
       "      <td>3</td>\n",
       "      <td>24.09</td>\n",
       "      <td>0.001002</td>\n",
       "      <td>45.66</td>\n",
       "      <td>45.66</td>\n",
       "      <td>100.97</td>\n",
       "      <td>2546.23</td>\n",
       "      <td>2445.26</td>\n",
       "      <td>100.97</td>\n",
       "      <td>2409.25</td>\n",
       "      <td>2308.28</td>\n",
       "      <td>0.3544</td>\n",
       "      <td>8.5791</td>\n",
       "      <td>8.2247</td>\n",
       "    </tr>\n",
       "    <tr>\n",
       "      <th>3</th>\n",
       "      <td>4</td>\n",
       "      <td>28.98</td>\n",
       "      <td>0.001003</td>\n",
       "      <td>34.79</td>\n",
       "      <td>34.79</td>\n",
       "      <td>121.38</td>\n",
       "      <td>2554.99</td>\n",
       "      <td>2433.61</td>\n",
       "      <td>121.38</td>\n",
       "      <td>2415.82</td>\n",
       "      <td>2294.44</td>\n",
       "      <td>0.4225</td>\n",
       "      <td>8.4759</td>\n",
       "      <td>8.0534</td>\n",
       "    </tr>\n",
       "    <tr>\n",
       "      <th>4</th>\n",
       "      <td>5</td>\n",
       "      <td>32.90</td>\n",
       "      <td>0.001005</td>\n",
       "      <td>28.19</td>\n",
       "      <td>28.18</td>\n",
       "      <td>137.74</td>\n",
       "      <td>2561.99</td>\n",
       "      <td>2424.25</td>\n",
       "      <td>137.73</td>\n",
       "      <td>2421.06</td>\n",
       "      <td>2283.33</td>\n",
       "      <td>0.4763</td>\n",
       "      <td>8.3963</td>\n",
       "      <td>7.9200</td>\n",
       "    </tr>\n",
       "  </tbody>\n",
       "</table>\n",
       "</div>"
      ],
      "text/plain": [
       "   P (kPa)  T (°C )  vf (m3/kg)  vg (m3/kg )  vfg (m3/kg )  hf (kJ/kg )  \\\n",
       "0        1     6.99    0.000997       128.97        128.97        29.40   \n",
       "1        2    17.50    0.001000        67.00         67.00        73.42   \n",
       "2        3    24.09    0.001002        45.66         45.66       100.97   \n",
       "3        4    28.98    0.001003        34.79         34.79       121.38   \n",
       "4        5    32.90    0.001005        28.19         28.18       137.74   \n",
       "\n",
       "   hg (kJ/kg )  hfg (kJ/kg )  uf (kJ/kg)  ug (kJ/kg)  ufg (kJ/kg )  \\\n",
       "0      2514.61       2485.21       29.40     2385.64       2356.24   \n",
       "1      2534.32       2460.90       73.42     2400.31       2326.89   \n",
       "2      2546.23       2445.26      100.97     2409.25       2308.28   \n",
       "3      2554.99       2433.61      121.38     2415.82       2294.44   \n",
       "4      2561.99       2424.25      137.73     2421.06       2283.33   \n",
       "\n",
       "   sf (kJ/(kg K)   sg (kJ/(kg K)  sfg kJ/(kg K)   \n",
       "0          0.1058         8.9770          8.8713  \n",
       "1          0.2606         8.7254          8.4648  \n",
       "2          0.3544         8.5791          8.2247  \n",
       "3          0.4225         8.4759          8.0534  \n",
       "4          0.4763         8.3963          7.9200  "
      ]
     },
     "execution_count": 43,
     "metadata": {},
     "output_type": "execute_result"
    }
   ],
   "source": [
    "# Viewing the head of the dataframe \n",
    "df.head(5)"
   ]
  },
  {
   "cell_type": "code",
   "execution_count": 44,
   "id": "589b4d45-69cf-4247-93db-fb169ea86c1d",
   "metadata": {},
   "outputs": [
    {
     "data": {
      "text/html": [
       "<div>\n",
       "<style scoped>\n",
       "    .dataframe tbody tr th:only-of-type {\n",
       "        vertical-align: middle;\n",
       "    }\n",
       "\n",
       "    .dataframe tbody tr th {\n",
       "        vertical-align: top;\n",
       "    }\n",
       "\n",
       "    .dataframe thead th {\n",
       "        text-align: right;\n",
       "    }\n",
       "</style>\n",
       "<table border=\"1\" class=\"dataframe\">\n",
       "  <thead>\n",
       "    <tr style=\"text-align: right;\">\n",
       "      <th></th>\n",
       "      <th>pressure(kPa)</th>\n",
       "      <th>temp(°C)</th>\n",
       "    </tr>\n",
       "  </thead>\n",
       "  <tbody>\n",
       "    <tr>\n",
       "      <th>0</th>\n",
       "      <td>1</td>\n",
       "      <td>6.99</td>\n",
       "    </tr>\n",
       "    <tr>\n",
       "      <th>1</th>\n",
       "      <td>2</td>\n",
       "      <td>17.50</td>\n",
       "    </tr>\n",
       "    <tr>\n",
       "      <th>2</th>\n",
       "      <td>3</td>\n",
       "      <td>24.09</td>\n",
       "    </tr>\n",
       "    <tr>\n",
       "      <th>3</th>\n",
       "      <td>4</td>\n",
       "      <td>28.98</td>\n",
       "    </tr>\n",
       "    <tr>\n",
       "      <th>4</th>\n",
       "      <td>5</td>\n",
       "      <td>32.90</td>\n",
       "    </tr>\n",
       "  </tbody>\n",
       "</table>\n",
       "</div>"
      ],
      "text/plain": [
       "   pressure(kPa)  temp(°C)\n",
       "0              1      6.99\n",
       "1              2     17.50\n",
       "2              3     24.09\n",
       "3              4     28.98\n",
       "4              5     32.90"
      ]
     },
     "execution_count": 44,
     "metadata": {},
     "output_type": "execute_result"
    }
   ],
   "source": [
    "df_frame = df[['P (kPa)', 'T (°C )']]\n",
    "df_frame.columns = [\"pressure(kPa)\", \"temp(°C)\"] \n",
    "df_frame.head() "
   ]
  },
  {
   "cell_type": "code",
   "execution_count": 45,
   "id": "393ebd6c",
   "metadata": {},
   "outputs": [
    {
     "name": "stdout",
     "output_type": "stream",
     "text": [
      "Model: \"sequential_1\"\n",
      "_________________________________________________________________\n",
      "Layer (type)                 Output Shape              Param #   \n",
      "=================================================================\n",
      "dense_6 (Dense)              (None, 250)               500       \n",
      "_________________________________________________________________\n",
      "dense_7 (Dense)              (None, 150)               37650     \n",
      "_________________________________________________________________\n",
      "dense_8 (Dense)              (None, 120)               18120     \n",
      "_________________________________________________________________\n",
      "dense_9 (Dense)              (None, 32)                3872      \n",
      "_________________________________________________________________\n",
      "dense_10 (Dense)             (None, 1)                 33        \n",
      "=================================================================\n",
      "Total params: 60,175\n",
      "Trainable params: 60,175\n",
      "Non-trainable params: 0\n",
      "_________________________________________________________________\n"
     ]
    }
   ],
   "source": [
    "# Building the neural network model\n",
    "def temperature_model():\n",
    "    model = Sequential() \n",
    "    model.add(Dense(250, input_dim=1))\n",
    "    model.add(Dense(150, activation=\"relu\")) \n",
    "    model.add(Dense(120, activation=\"relu\"))\n",
    "    model.add(Dense(32, activation=\"relu\")) \n",
    "    model.add(Dense(1)) \n",
    "    \n",
    "    # Returning the model\n",
    "    return model \n",
    "    \n",
    "\n",
    "# callback = tf.keras.callbacks.LearningRateScheduler(scheduler) \n",
    "optimizer = Adam() \n",
    "temp_model = temperature_model() \n",
    "\n",
    "# Compiling the model\n",
    "temp_model.compile(loss=\"mean_squared_error\", optimizer=\"sgd\")  \n",
    "\n",
    "# Model summary \n",
    "temp_model.summary() "
   ]
  },
  {
   "cell_type": "code",
   "execution_count": 46,
   "id": "06ff4c62-3995-4eed-af87-23b803bc6a63",
   "metadata": {},
   "outputs": [],
   "source": [
    "# Fitting the data \n",
    "H = temp_model.fit(pressureScaled, temperatureScaled, batch_size=32, epochs=1000, verbose=0) "
   ]
  },
  {
   "cell_type": "code",
   "execution_count": 47,
   "id": "13c35ce5-bf35-48a2-9cf5-b19258aa284a",
   "metadata": {},
   "outputs": [
    {
     "name": "stderr",
     "output_type": "stream",
     "text": [
      "/home/mbonu/anaconda3/envs/ml/lib/python3.8/site-packages/tensorflow/python/keras/engine/training.py:2464: UserWarning: `Model.state_updates` will be removed in a future version. This property should not be used in TensorFlow 2.0, as `updates` are applied automatically.\n",
      "  warnings.warn('`Model.state_updates` will be removed in a future version. '\n"
     ]
    },
    {
     "data": {
      "image/png": "[encoded data removed]",
      "text/plain": [
       "<Figure size 1440x936 with 1 Axes>"
      ]
     },
     "metadata": {},
     "output_type": "display_data"
    }
   ],
   "source": [
    "# Displaying the performance of the model \n",
    "plt.figure(figsize=(20, 13)) \n",
    "\n",
    "# Making predictions \n",
    "predValues = temp_model.predict(pressureScaled) \n",
    "predValues = temp_enc.inverse_transform(predValues) \n",
    "\n",
    "# Plotting \n",
    "plt.plot(pressureValues, predValues, c=\"r\") \n",
    "plt.plot(pressureValues, temperatureValues, c=\"b\") \n",
    "\n",
    "# Displaying the plot \n",
    "plt.show() "
   ]
  },
  {
   "cell_type": "code",
   "execution_count": 48,
   "id": "e7d93ee6-7733-4f48-a853-7a6394008851",
   "metadata": {},
   "outputs": [],
   "source": [
    "# Saving the model to disk \n",
    "temp_model.save(\"temperatureModel.h5\", save_format=\"h5\") "
   ]
  },
  {
   "cell_type": "code",
   "execution_count": 49,
   "id": "1f4e2234-7abf-4f47-8cff-4104c41ac8fa",
   "metadata": {},
   "outputs": [],
   "source": [
    "# Setting the path to both the pressure, and temperature \n",
    "# Encoders\n",
    "pressure_encoder = \"pressure_encoder.bin\" \n",
    "temp_encoder = \"temperature_encoder.bin\"\n",
    "\n",
    "# loading the encoders \n",
    "pressure_enc = joblib.load(pressure_encoder) \n",
    "temperature_enc = joblib.load(temp_encoder) "
   ]
  },
  {
   "cell_type": "code",
   "execution_count": 50,
   "id": "b5ce63aa-a7a9-4085-a9ca-1e3f2d9cd876",
   "metadata": {},
   "outputs": [
    {
     "data": {
      "text/html": [
       "<div>\n",
       "<style scoped>\n",
       "    .dataframe tbody tr th:only-of-type {\n",
       "        vertical-align: middle;\n",
       "    }\n",
       "\n",
       "    .dataframe tbody tr th {\n",
       "        vertical-align: top;\n",
       "    }\n",
       "\n",
       "    .dataframe thead th {\n",
       "        text-align: right;\n",
       "    }\n",
       "</style>\n",
       "<table border=\"1\" class=\"dataframe\">\n",
       "  <thead>\n",
       "    <tr style=\"text-align: right;\">\n",
       "      <th></th>\n",
       "      <th>P (kPa)</th>\n",
       "      <th>T (°C )</th>\n",
       "      <th>vf (m3/kg)</th>\n",
       "      <th>vg (m3/kg )</th>\n",
       "      <th>vfg (m3/kg )</th>\n",
       "      <th>hf (kJ/kg )</th>\n",
       "      <th>hg (kJ/kg )</th>\n",
       "      <th>hfg (kJ/kg )</th>\n",
       "      <th>uf (kJ/kg)</th>\n",
       "      <th>ug (kJ/kg)</th>\n",
       "      <th>ufg (kJ/kg )</th>\n",
       "      <th>sf (kJ/(kg K)</th>\n",
       "      <th>sg (kJ/(kg K)</th>\n",
       "      <th>sfg kJ/(kg K)</th>\n",
       "    </tr>\n",
       "  </thead>\n",
       "  <tbody>\n",
       "    <tr>\n",
       "      <th>0</th>\n",
       "      <td>1</td>\n",
       "      <td>6.99</td>\n",
       "      <td>0.000997</td>\n",
       "      <td>128.97</td>\n",
       "      <td>128.97</td>\n",
       "      <td>29.40</td>\n",
       "      <td>2514.61</td>\n",
       "      <td>2485.21</td>\n",
       "      <td>29.40</td>\n",
       "      <td>2385.64</td>\n",
       "      <td>2356.24</td>\n",
       "      <td>0.1058</td>\n",
       "      <td>8.9770</td>\n",
       "      <td>8.8713</td>\n",
       "    </tr>\n",
       "    <tr>\n",
       "      <th>1</th>\n",
       "      <td>2</td>\n",
       "      <td>17.50</td>\n",
       "      <td>0.001000</td>\n",
       "      <td>67.00</td>\n",
       "      <td>67.00</td>\n",
       "      <td>73.42</td>\n",
       "      <td>2534.32</td>\n",
       "      <td>2460.90</td>\n",
       "      <td>73.42</td>\n",
       "      <td>2400.31</td>\n",
       "      <td>2326.89</td>\n",
       "      <td>0.2606</td>\n",
       "      <td>8.7254</td>\n",
       "      <td>8.4648</td>\n",
       "    </tr>\n",
       "    <tr>\n",
       "      <th>2</th>\n",
       "      <td>3</td>\n",
       "      <td>24.09</td>\n",
       "      <td>0.001002</td>\n",
       "      <td>45.66</td>\n",
       "      <td>45.66</td>\n",
       "      <td>100.97</td>\n",
       "      <td>2546.23</td>\n",
       "      <td>2445.26</td>\n",
       "      <td>100.97</td>\n",
       "      <td>2409.25</td>\n",
       "      <td>2308.28</td>\n",
       "      <td>0.3544</td>\n",
       "      <td>8.5791</td>\n",
       "      <td>8.2247</td>\n",
       "    </tr>\n",
       "    <tr>\n",
       "      <th>3</th>\n",
       "      <td>4</td>\n",
       "      <td>28.98</td>\n",
       "      <td>0.001003</td>\n",
       "      <td>34.79</td>\n",
       "      <td>34.79</td>\n",
       "      <td>121.38</td>\n",
       "      <td>2554.99</td>\n",
       "      <td>2433.61</td>\n",
       "      <td>121.38</td>\n",
       "      <td>2415.82</td>\n",
       "      <td>2294.44</td>\n",
       "      <td>0.4225</td>\n",
       "      <td>8.4759</td>\n",
       "      <td>8.0534</td>\n",
       "    </tr>\n",
       "    <tr>\n",
       "      <th>4</th>\n",
       "      <td>5</td>\n",
       "      <td>32.90</td>\n",
       "      <td>0.001005</td>\n",
       "      <td>28.19</td>\n",
       "      <td>28.18</td>\n",
       "      <td>137.74</td>\n",
       "      <td>2561.99</td>\n",
       "      <td>2424.25</td>\n",
       "      <td>137.73</td>\n",
       "      <td>2421.06</td>\n",
       "      <td>2283.33</td>\n",
       "      <td>0.4763</td>\n",
       "      <td>8.3963</td>\n",
       "      <td>7.9200</td>\n",
       "    </tr>\n",
       "  </tbody>\n",
       "</table>\n",
       "</div>"
      ],
      "text/plain": [
       "   P (kPa)  T (°C )  vf (m3/kg)  vg (m3/kg )  vfg (m3/kg )  hf (kJ/kg )  \\\n",
       "0        1     6.99    0.000997       128.97        128.97        29.40   \n",
       "1        2    17.50    0.001000        67.00         67.00        73.42   \n",
       "2        3    24.09    0.001002        45.66         45.66       100.97   \n",
       "3        4    28.98    0.001003        34.79         34.79       121.38   \n",
       "4        5    32.90    0.001005        28.19         28.18       137.74   \n",
       "\n",
       "   hg (kJ/kg )  hfg (kJ/kg )  uf (kJ/kg)  ug (kJ/kg)  ufg (kJ/kg )  \\\n",
       "0      2514.61       2485.21       29.40     2385.64       2356.24   \n",
       "1      2534.32       2460.90       73.42     2400.31       2326.89   \n",
       "2      2546.23       2445.26      100.97     2409.25       2308.28   \n",
       "3      2554.99       2433.61      121.38     2415.82       2294.44   \n",
       "4      2561.99       2424.25      137.73     2421.06       2283.33   \n",
       "\n",
       "   sf (kJ/(kg K)   sg (kJ/(kg K)  sfg kJ/(kg K)   \n",
       "0          0.1058         8.9770          8.8713  \n",
       "1          0.2606         8.7254          8.4648  \n",
       "2          0.3544         8.5791          8.2247  \n",
       "3          0.4225         8.4759          8.0534  \n",
       "4          0.4763         8.3963          7.9200  "
      ]
     },
     "execution_count": 50,
     "metadata": {},
     "output_type": "execute_result"
    }
   ],
   "source": [
    "# Viewing the head of the dataframe \n",
    "df.head() "
   ]
  },
  {
   "cell_type": "code",
   "execution_count": 51,
   "id": "79c139d0-cb16-45e1-b740-1bf5bb9f873d",
   "metadata": {},
   "outputs": [],
   "source": [
    "# Creating a numpy array to hold the pressure value, \n",
    "# reshape and transform the pressure data into encoded values\n",
    "pressureValue = np.array([568.87]).reshape(1, -1) \n",
    "pressureValue = pressure_enc.transform(pressureValue) "
   ]
  },
  {
   "cell_type": "code",
   "execution_count": 52,
   "id": "aa60a364-44c9-43dc-9037-632a9ccb6332",
   "metadata": {},
   "outputs": [
    {
     "data": {
      "text/plain": [
       "array([[-0.69123305]])"
      ]
     },
     "execution_count": 52,
     "metadata": {},
     "output_type": "execute_result"
    }
   ],
   "source": [
    "pressureValue "
   ]
  },
  {
   "cell_type": "code",
   "execution_count": null,
   "id": "73a0506b-0f52-4b43-bd15-aa489f1e407c",
   "metadata": {},
   "outputs": [],
   "source": []
  },
  {
   "cell_type": "code",
   "execution_count": null,
   "id": "5b9c5a88-ac16-4ba2-97bc-3799bbadbe3a",
   "metadata": {},
   "outputs": [],
   "source": []
  },
  {
   "cell_type": "code",
   "execution_count": null,
   "id": "a170baa7-a0ae-49f8-85f1-779b654ce6a5",
   "metadata": {},
   "outputs": [],
   "source": []
  },
  {
   "cell_type": "code",
   "execution_count": 53,
   "id": "d8e123b0-ef10-41f4-ab0d-8a8eb8672d88",
   "metadata": {},
   "outputs": [],
   "source": [
    "# Making predictions \n",
    "predicted_temperature = temp_model.predict(pressureValue) \n",
    "predicted_temperature = temperature_enc.transform(predicted_temperature) "
   ]
  },
  {
   "cell_type": "code",
   "execution_count": 54,
   "id": "6c9a1b1f-83ae-4684-b836-f89cf1a7d0ee",
   "metadata": {},
   "outputs": [
    {
     "data": {
      "text/plain": [
       "array([[-1.9437243]], dtype=float32)"
      ]
     },
     "execution_count": 54,
     "metadata": {},
     "output_type": "execute_result"
    }
   ],
   "source": [
    "predicted_temperature"
   ]
  },
  {
   "cell_type": "code",
   "execution_count": null,
   "id": "bcda7143-f11c-4790-9f7b-e82581c2cd09",
   "metadata": {},
   "outputs": [],
   "source": []
  }
 ],
 "metadata": {
  "interpreter": {
   "hash": "8f790eb3e69a3fd16f54c0fb03e4f6849fcaee82166a9a91fe672204a174558d"
  },
  "kernelspec": {
   "display_name": "Python 3 (ipykernel)",
   "language": "python",
   "name": "python3"
  },
  "language_info": {
   "codemirror_mode": {
    "name": "ipython",
    "version": 3
   },
   "file_extension": ".py",
   "mimetype": "text/x-python",
   "name": "python",
   "nbconvert_exporter": "python",
   "pygments_lexer": "ipython3",
   "version": "3.8.11"
  }
 },
 "nbformat": 4,
 "nbformat_minor": 5
}
